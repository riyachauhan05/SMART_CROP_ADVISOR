{
 "cells": [
  {
   "cell_type": "code",
   "execution_count": 1,
   "id": "edc01f7f-d63c-411c-9c6c-0506560388c8",
   "metadata": {},
   "outputs": [],
   "source": [
    "import pandas as pd\n",
    "import numpy as np"
   ]
  },
  {
   "cell_type": "code",
   "execution_count": 2,
   "id": "e979eb35-0736-4ee6-8dbe-6410fb2b72ed",
   "metadata": {},
   "outputs": [],
   "source": [
    "df = pd.read_excel(\"/Users/prakhar/Desktop/sorted crop data 2/01.xlsx\")"
   ]
  },
  {
   "cell_type": "code",
   "execution_count": 3,
   "id": "bf13ab6c-4618-49fd-9a17-fd9f9c746073",
   "metadata": {},
   "outputs": [
    {
     "data": {
      "text/html": [
       "<div>\n",
       "<style scoped>\n",
       "    .dataframe tbody tr th:only-of-type {\n",
       "        vertical-align: middle;\n",
       "    }\n",
       "\n",
       "    .dataframe tbody tr th {\n",
       "        vertical-align: top;\n",
       "    }\n",
       "\n",
       "    .dataframe thead th {\n",
       "        text-align: right;\n",
       "    }\n",
       "</style>\n",
       "<table border=\"1\" class=\"dataframe\">\n",
       "  <thead>\n",
       "    <tr style=\"text-align: right;\">\n",
       "      <th></th>\n",
       "      <th>State_Name</th>\n",
       "      <th>District_Name</th>\n",
       "      <th>Crop</th>\n",
       "      <th>Area</th>\n",
       "      <th>Production</th>\n",
       "      <th>prod/area</th>\n",
       "      <th>rainfall</th>\n",
       "      <th>temp</th>\n",
       "      <th>Ph</th>\n",
       "    </tr>\n",
       "  </thead>\n",
       "  <tbody>\n",
       "    <tr>\n",
       "      <th>0</th>\n",
       "      <td>Tamil Nadu</td>\n",
       "      <td>NAMAKKAL</td>\n",
       "      <td>Arecanut</td>\n",
       "      <td>626.0</td>\n",
       "      <td>25.0</td>\n",
       "      <td>0.03994</td>\n",
       "      <td>1000.499</td>\n",
       "      <td>35.00000</td>\n",
       "      <td>5.5</td>\n",
       "    </tr>\n",
       "    <tr>\n",
       "      <th>1</th>\n",
       "      <td>Assam</td>\n",
       "      <td>KAMRUP METRO</td>\n",
       "      <td>Arecanut</td>\n",
       "      <td>675.0</td>\n",
       "      <td>91.0</td>\n",
       "      <td>0.13481</td>\n",
       "      <td>1001.685</td>\n",
       "      <td>35.00000</td>\n",
       "      <td>5.5</td>\n",
       "    </tr>\n",
       "    <tr>\n",
       "      <th>2</th>\n",
       "      <td>Tamil Nadu</td>\n",
       "      <td>KRISHNAGIRI</td>\n",
       "      <td>Arecanut</td>\n",
       "      <td>32.0</td>\n",
       "      <td>5.0</td>\n",
       "      <td>0.15625</td>\n",
       "      <td>1001.953</td>\n",
       "      <td>34.00000</td>\n",
       "      <td>5.5</td>\n",
       "    </tr>\n",
       "    <tr>\n",
       "      <th>3</th>\n",
       "      <td>Tamil Nadu</td>\n",
       "      <td>PERAMBALUR</td>\n",
       "      <td>Arecanut</td>\n",
       "      <td>63.0</td>\n",
       "      <td>11.0</td>\n",
       "      <td>0.1746</td>\n",
       "      <td>1002.183</td>\n",
       "      <td>33.66667</td>\n",
       "      <td>5.5</td>\n",
       "    </tr>\n",
       "    <tr>\n",
       "      <th>4</th>\n",
       "      <td>Assam</td>\n",
       "      <td>CACHAR</td>\n",
       "      <td>Arecanut</td>\n",
       "      <td>4520.0</td>\n",
       "      <td>858.0</td>\n",
       "      <td>0.18982</td>\n",
       "      <td>1002.373</td>\n",
       "      <td>33.16667</td>\n",
       "      <td>5.5</td>\n",
       "    </tr>\n",
       "  </tbody>\n",
       "</table>\n",
       "</div>"
      ],
      "text/plain": [
       "   State_Name District_Name      Crop    Area  Production prod/area  rainfall  \\\n",
       "0  Tamil Nadu      NAMAKKAL  Arecanut   626.0        25.0   0.03994  1000.499   \n",
       "1       Assam  KAMRUP METRO  Arecanut   675.0        91.0   0.13481  1001.685   \n",
       "2  Tamil Nadu   KRISHNAGIRI  Arecanut    32.0         5.0   0.15625  1001.953   \n",
       "3  Tamil Nadu    PERAMBALUR  Arecanut    63.0        11.0    0.1746  1002.183   \n",
       "4       Assam        CACHAR  Arecanut  4520.0       858.0   0.18982  1002.373   \n",
       "\n",
       "       temp   Ph  \n",
       "0  35.00000  5.5  \n",
       "1  35.00000  5.5  \n",
       "2  34.00000  5.5  \n",
       "3  33.66667  5.5  \n",
       "4  33.16667  5.5  "
      ]
     },
     "execution_count": 3,
     "metadata": {},
     "output_type": "execute_result"
    }
   ],
   "source": [
    "df.head()"
   ]
  },
  {
   "cell_type": "code",
   "execution_count": 4,
   "id": "cc1bc422-561d-4288-bc8b-11a0680e4fc0",
   "metadata": {},
   "outputs": [
    {
     "data": {
      "text/plain": [
       "(193873, 9)"
      ]
     },
     "execution_count": 4,
     "metadata": {},
     "output_type": "execute_result"
    }
   ],
   "source": [
    "df.shape"
   ]
  },
  {
   "cell_type": "code",
   "execution_count": 5,
   "id": "87222e3e-5af0-4384-a665-a34bf001c2be",
   "metadata": {},
   "outputs": [
    {
     "name": "stdout",
     "output_type": "stream",
     "text": [
      "<class 'pandas.core.frame.DataFrame'>\n",
      "RangeIndex: 193873 entries, 0 to 193872\n",
      "Data columns (total 9 columns):\n",
      " #   Column         Non-Null Count   Dtype  \n",
      "---  ------         --------------   -----  \n",
      " 0   State_Name     193873 non-null  object \n",
      " 1   District_Name  193873 non-null  object \n",
      " 2   Crop           193873 non-null  object \n",
      " 3   Area           193873 non-null  float64\n",
      " 4   Production     193873 non-null  float64\n",
      " 5   prod/area      193873 non-null  object \n",
      " 6   rainfall       193873 non-null  object \n",
      " 7   temp           193873 non-null  float64\n",
      " 8   Ph             193873 non-null  float64\n",
      "dtypes: float64(4), object(5)\n",
      "memory usage: 13.3+ MB\n"
     ]
    }
   ],
   "source": [
    "df.info()"
   ]
  },
  {
   "cell_type": "code",
   "execution_count": 6,
   "id": "035441f0-c305-4519-b771-3334be66203e",
   "metadata": {},
   "outputs": [
    {
     "data": {
      "text/html": [
       "<div>\n",
       "<style scoped>\n",
       "    .dataframe tbody tr th:only-of-type {\n",
       "        vertical-align: middle;\n",
       "    }\n",
       "\n",
       "    .dataframe tbody tr th {\n",
       "        vertical-align: top;\n",
       "    }\n",
       "\n",
       "    .dataframe thead th {\n",
       "        text-align: right;\n",
       "    }\n",
       "</style>\n",
       "<table border=\"1\" class=\"dataframe\">\n",
       "  <thead>\n",
       "    <tr style=\"text-align: right;\">\n",
       "      <th></th>\n",
       "      <th>State_Name</th>\n",
       "      <th>District_Name</th>\n",
       "      <th>Crop</th>\n",
       "      <th>Area</th>\n",
       "      <th>Production</th>\n",
       "      <th>prod/area</th>\n",
       "      <th>rainfall</th>\n",
       "      <th>temp</th>\n",
       "      <th>Ph</th>\n",
       "    </tr>\n",
       "  </thead>\n",
       "  <tbody>\n",
       "    <tr>\n",
       "      <th>0</th>\n",
       "      <td>Tamil Nadu</td>\n",
       "      <td>NAMAKKAL</td>\n",
       "      <td>Arecanut</td>\n",
       "      <td>626.0</td>\n",
       "      <td>25.0</td>\n",
       "      <td>0.03994</td>\n",
       "      <td>1000.499</td>\n",
       "      <td>35.00000</td>\n",
       "      <td>5.5</td>\n",
       "    </tr>\n",
       "    <tr>\n",
       "      <th>1</th>\n",
       "      <td>Assam</td>\n",
       "      <td>KAMRUP METRO</td>\n",
       "      <td>Arecanut</td>\n",
       "      <td>675.0</td>\n",
       "      <td>91.0</td>\n",
       "      <td>0.13481</td>\n",
       "      <td>1001.685</td>\n",
       "      <td>35.00000</td>\n",
       "      <td>5.5</td>\n",
       "    </tr>\n",
       "    <tr>\n",
       "      <th>2</th>\n",
       "      <td>Tamil Nadu</td>\n",
       "      <td>KRISHNAGIRI</td>\n",
       "      <td>Arecanut</td>\n",
       "      <td>32.0</td>\n",
       "      <td>5.0</td>\n",
       "      <td>0.15625</td>\n",
       "      <td>1001.953</td>\n",
       "      <td>34.00000</td>\n",
       "      <td>5.5</td>\n",
       "    </tr>\n",
       "    <tr>\n",
       "      <th>3</th>\n",
       "      <td>Tamil Nadu</td>\n",
       "      <td>PERAMBALUR</td>\n",
       "      <td>Arecanut</td>\n",
       "      <td>63.0</td>\n",
       "      <td>11.0</td>\n",
       "      <td>0.1746</td>\n",
       "      <td>1002.183</td>\n",
       "      <td>33.66667</td>\n",
       "      <td>5.5</td>\n",
       "    </tr>\n",
       "    <tr>\n",
       "      <th>4</th>\n",
       "      <td>Assam</td>\n",
       "      <td>CACHAR</td>\n",
       "      <td>Arecanut</td>\n",
       "      <td>4520.0</td>\n",
       "      <td>858.0</td>\n",
       "      <td>0.18982</td>\n",
       "      <td>1002.373</td>\n",
       "      <td>33.16667</td>\n",
       "      <td>5.5</td>\n",
       "    </tr>\n",
       "    <tr>\n",
       "      <th>...</th>\n",
       "      <td>...</td>\n",
       "      <td>...</td>\n",
       "      <td>...</td>\n",
       "      <td>...</td>\n",
       "      <td>...</td>\n",
       "      <td>...</td>\n",
       "      <td>...</td>\n",
       "      <td>...</td>\n",
       "      <td>...</td>\n",
       "    </tr>\n",
       "    <tr>\n",
       "      <th>193868</th>\n",
       "      <td>Punjab</td>\n",
       "      <td>SANGRUR</td>\n",
       "      <td>Wheat</td>\n",
       "      <td>285000.0</td>\n",
       "      <td>1567000.0</td>\n",
       "      <td>5.49825</td>\n",
       "      <td>764.9474</td>\n",
       "      <td>25.00000</td>\n",
       "      <td>6.1</td>\n",
       "    </tr>\n",
       "    <tr>\n",
       "      <th>193869</th>\n",
       "      <td>Haryana</td>\n",
       "      <td>SONIPAT</td>\n",
       "      <td>Wheat</td>\n",
       "      <td>162264.0</td>\n",
       "      <td>894000.0</td>\n",
       "      <td>5.50954</td>\n",
       "      <td>765.2862</td>\n",
       "      <td>24.00000</td>\n",
       "      <td>6.0</td>\n",
       "    </tr>\n",
       "    <tr>\n",
       "      <th>193870</th>\n",
       "      <td>Haryana</td>\n",
       "      <td>PANIPAT</td>\n",
       "      <td>Wheat</td>\n",
       "      <td>86807.0</td>\n",
       "      <td>483000.0</td>\n",
       "      <td>5.56407</td>\n",
       "      <td>766.922</td>\n",
       "      <td>23.00000</td>\n",
       "      <td>6.0</td>\n",
       "    </tr>\n",
       "    <tr>\n",
       "      <th>193871</th>\n",
       "      <td>Haryana</td>\n",
       "      <td>KARNAL</td>\n",
       "      <td>Wheat</td>\n",
       "      <td>171771.0</td>\n",
       "      <td>975000.0</td>\n",
       "      <td>5.67616</td>\n",
       "      <td>770.2849</td>\n",
       "      <td>27.00000</td>\n",
       "      <td>6.1</td>\n",
       "    </tr>\n",
       "    <tr>\n",
       "      <th>193872</th>\n",
       "      <td>Punjab</td>\n",
       "      <td>MOGA</td>\n",
       "      <td>Wheat</td>\n",
       "      <td>117000.0</td>\n",
       "      <td>873000.0</td>\n",
       "      <td>7.46154</td>\n",
       "      <td>770</td>\n",
       "      <td>26.00000</td>\n",
       "      <td>6.2</td>\n",
       "    </tr>\n",
       "  </tbody>\n",
       "</table>\n",
       "<p>193873 rows × 9 columns</p>\n",
       "</div>"
      ],
      "text/plain": [
       "        State_Name District_Name      Crop      Area  Production prod/area  \\\n",
       "0       Tamil Nadu      NAMAKKAL  Arecanut     626.0        25.0   0.03994   \n",
       "1            Assam  KAMRUP METRO  Arecanut     675.0        91.0   0.13481   \n",
       "2       Tamil Nadu   KRISHNAGIRI  Arecanut      32.0         5.0   0.15625   \n",
       "3       Tamil Nadu    PERAMBALUR  Arecanut      63.0        11.0    0.1746   \n",
       "4            Assam        CACHAR  Arecanut    4520.0       858.0   0.18982   \n",
       "...            ...           ...       ...       ...         ...       ...   \n",
       "193868      Punjab       SANGRUR     Wheat  285000.0   1567000.0   5.49825   \n",
       "193869     Haryana       SONIPAT     Wheat  162264.0    894000.0   5.50954   \n",
       "193870     Haryana       PANIPAT     Wheat   86807.0    483000.0   5.56407   \n",
       "193871     Haryana        KARNAL     Wheat  171771.0    975000.0   5.67616   \n",
       "193872      Punjab          MOGA     Wheat  117000.0    873000.0   7.46154   \n",
       "\n",
       "        rainfall      temp   Ph  \n",
       "0       1000.499  35.00000  5.5  \n",
       "1       1001.685  35.00000  5.5  \n",
       "2       1001.953  34.00000  5.5  \n",
       "3       1002.183  33.66667  5.5  \n",
       "4       1002.373  33.16667  5.5  \n",
       "...          ...       ...  ...  \n",
       "193868  764.9474  25.00000  6.1  \n",
       "193869  765.2862  24.00000  6.0  \n",
       "193870   766.922  23.00000  6.0  \n",
       "193871  770.2849  27.00000  6.1  \n",
       "193872       770  26.00000  6.2  \n",
       "\n",
       "[193873 rows x 9 columns]"
      ]
     },
     "execution_count": 6,
     "metadata": {},
     "output_type": "execute_result"
    }
   ],
   "source": [
    "df.dropna()"
   ]
  },
  {
   "cell_type": "code",
   "execution_count": null,
   "id": "cce1d78c-821c-4caf-be34-f7c7675bb9bb",
   "metadata": {},
   "outputs": [],
   "source": []
  },
  {
   "cell_type": "code",
   "execution_count": 7,
   "id": "88134977-73f5-4913-97dd-27a87b423fbe",
   "metadata": {},
   "outputs": [
    {
     "data": {
      "text/plain": [
       "State_Name       0\n",
       "District_Name    0\n",
       "Crop             0\n",
       "Area             0\n",
       "Production       0\n",
       "prod/area        0\n",
       "rainfall         0\n",
       "temp             0\n",
       "Ph               0\n",
       "dtype: int64"
      ]
     },
     "execution_count": 7,
     "metadata": {},
     "output_type": "execute_result"
    }
   ],
   "source": [
    "df.isnull().sum()"
   ]
  },
  {
   "cell_type": "code",
   "execution_count": null,
   "id": "a50381f8-10e6-4844-a4a2-11ee7d9732ef",
   "metadata": {},
   "outputs": [],
   "source": []
  },
  {
   "cell_type": "markdown",
   "id": "96111acf-bf52-4bd4-b93f-94b416bc8244",
   "metadata": {},
   "source": [
    "# MODEL"
   ]
  },
  {
   "cell_type": "code",
   "execution_count": 8,
   "id": "174d5b18-b874-4948-a05d-d46909ddc3be",
   "metadata": {},
   "outputs": [],
   "source": [
    "x = df.drop(columns='Crop')\n",
    "y = df['Crop']"
   ]
  },
  {
   "cell_type": "code",
   "execution_count": 9,
   "id": "30774db2-99fa-45b8-bb5c-97c9c689ad20",
   "metadata": {},
   "outputs": [
    {
     "data": {
      "text/html": [
       "<div>\n",
       "<style scoped>\n",
       "    .dataframe tbody tr th:only-of-type {\n",
       "        vertical-align: middle;\n",
       "    }\n",
       "\n",
       "    .dataframe tbody tr th {\n",
       "        vertical-align: top;\n",
       "    }\n",
       "\n",
       "    .dataframe thead th {\n",
       "        text-align: right;\n",
       "    }\n",
       "</style>\n",
       "<table border=\"1\" class=\"dataframe\">\n",
       "  <thead>\n",
       "    <tr style=\"text-align: right;\">\n",
       "      <th></th>\n",
       "      <th>State_Name</th>\n",
       "      <th>District_Name</th>\n",
       "      <th>Area</th>\n",
       "      <th>Production</th>\n",
       "      <th>prod/area</th>\n",
       "      <th>rainfall</th>\n",
       "      <th>temp</th>\n",
       "      <th>Ph</th>\n",
       "    </tr>\n",
       "  </thead>\n",
       "  <tbody>\n",
       "    <tr>\n",
       "      <th>0</th>\n",
       "      <td>Tamil Nadu</td>\n",
       "      <td>NAMAKKAL</td>\n",
       "      <td>626.0</td>\n",
       "      <td>25.0</td>\n",
       "      <td>0.03994</td>\n",
       "      <td>1000.499</td>\n",
       "      <td>35.00000</td>\n",
       "      <td>5.5</td>\n",
       "    </tr>\n",
       "    <tr>\n",
       "      <th>1</th>\n",
       "      <td>Assam</td>\n",
       "      <td>KAMRUP METRO</td>\n",
       "      <td>675.0</td>\n",
       "      <td>91.0</td>\n",
       "      <td>0.13481</td>\n",
       "      <td>1001.685</td>\n",
       "      <td>35.00000</td>\n",
       "      <td>5.5</td>\n",
       "    </tr>\n",
       "    <tr>\n",
       "      <th>2</th>\n",
       "      <td>Tamil Nadu</td>\n",
       "      <td>KRISHNAGIRI</td>\n",
       "      <td>32.0</td>\n",
       "      <td>5.0</td>\n",
       "      <td>0.15625</td>\n",
       "      <td>1001.953</td>\n",
       "      <td>34.00000</td>\n",
       "      <td>5.5</td>\n",
       "    </tr>\n",
       "    <tr>\n",
       "      <th>3</th>\n",
       "      <td>Tamil Nadu</td>\n",
       "      <td>PERAMBALUR</td>\n",
       "      <td>63.0</td>\n",
       "      <td>11.0</td>\n",
       "      <td>0.1746</td>\n",
       "      <td>1002.183</td>\n",
       "      <td>33.66667</td>\n",
       "      <td>5.5</td>\n",
       "    </tr>\n",
       "    <tr>\n",
       "      <th>4</th>\n",
       "      <td>Assam</td>\n",
       "      <td>CACHAR</td>\n",
       "      <td>4520.0</td>\n",
       "      <td>858.0</td>\n",
       "      <td>0.18982</td>\n",
       "      <td>1002.373</td>\n",
       "      <td>33.16667</td>\n",
       "      <td>5.5</td>\n",
       "    </tr>\n",
       "    <tr>\n",
       "      <th>...</th>\n",
       "      <td>...</td>\n",
       "      <td>...</td>\n",
       "      <td>...</td>\n",
       "      <td>...</td>\n",
       "      <td>...</td>\n",
       "      <td>...</td>\n",
       "      <td>...</td>\n",
       "      <td>...</td>\n",
       "    </tr>\n",
       "    <tr>\n",
       "      <th>193868</th>\n",
       "      <td>Punjab</td>\n",
       "      <td>SANGRUR</td>\n",
       "      <td>285000.0</td>\n",
       "      <td>1567000.0</td>\n",
       "      <td>5.49825</td>\n",
       "      <td>764.9474</td>\n",
       "      <td>25.00000</td>\n",
       "      <td>6.1</td>\n",
       "    </tr>\n",
       "    <tr>\n",
       "      <th>193869</th>\n",
       "      <td>Haryana</td>\n",
       "      <td>SONIPAT</td>\n",
       "      <td>162264.0</td>\n",
       "      <td>894000.0</td>\n",
       "      <td>5.50954</td>\n",
       "      <td>765.2862</td>\n",
       "      <td>24.00000</td>\n",
       "      <td>6.0</td>\n",
       "    </tr>\n",
       "    <tr>\n",
       "      <th>193870</th>\n",
       "      <td>Haryana</td>\n",
       "      <td>PANIPAT</td>\n",
       "      <td>86807.0</td>\n",
       "      <td>483000.0</td>\n",
       "      <td>5.56407</td>\n",
       "      <td>766.922</td>\n",
       "      <td>23.00000</td>\n",
       "      <td>6.0</td>\n",
       "    </tr>\n",
       "    <tr>\n",
       "      <th>193871</th>\n",
       "      <td>Haryana</td>\n",
       "      <td>KARNAL</td>\n",
       "      <td>171771.0</td>\n",
       "      <td>975000.0</td>\n",
       "      <td>5.67616</td>\n",
       "      <td>770.2849</td>\n",
       "      <td>27.00000</td>\n",
       "      <td>6.1</td>\n",
       "    </tr>\n",
       "    <tr>\n",
       "      <th>193872</th>\n",
       "      <td>Punjab</td>\n",
       "      <td>MOGA</td>\n",
       "      <td>117000.0</td>\n",
       "      <td>873000.0</td>\n",
       "      <td>7.46154</td>\n",
       "      <td>770</td>\n",
       "      <td>26.00000</td>\n",
       "      <td>6.2</td>\n",
       "    </tr>\n",
       "  </tbody>\n",
       "</table>\n",
       "<p>193873 rows × 8 columns</p>\n",
       "</div>"
      ],
      "text/plain": [
       "        State_Name District_Name      Area  Production prod/area  rainfall  \\\n",
       "0       Tamil Nadu      NAMAKKAL     626.0        25.0   0.03994  1000.499   \n",
       "1            Assam  KAMRUP METRO     675.0        91.0   0.13481  1001.685   \n",
       "2       Tamil Nadu   KRISHNAGIRI      32.0         5.0   0.15625  1001.953   \n",
       "3       Tamil Nadu    PERAMBALUR      63.0        11.0    0.1746  1002.183   \n",
       "4            Assam        CACHAR    4520.0       858.0   0.18982  1002.373   \n",
       "...            ...           ...       ...         ...       ...       ...   \n",
       "193868      Punjab       SANGRUR  285000.0   1567000.0   5.49825  764.9474   \n",
       "193869     Haryana       SONIPAT  162264.0    894000.0   5.50954  765.2862   \n",
       "193870     Haryana       PANIPAT   86807.0    483000.0   5.56407   766.922   \n",
       "193871     Haryana        KARNAL  171771.0    975000.0   5.67616  770.2849   \n",
       "193872      Punjab          MOGA  117000.0    873000.0   7.46154       770   \n",
       "\n",
       "            temp   Ph  \n",
       "0       35.00000  5.5  \n",
       "1       35.00000  5.5  \n",
       "2       34.00000  5.5  \n",
       "3       33.66667  5.5  \n",
       "4       33.16667  5.5  \n",
       "...          ...  ...  \n",
       "193868  25.00000  6.1  \n",
       "193869  24.00000  6.0  \n",
       "193870  23.00000  6.0  \n",
       "193871  27.00000  6.1  \n",
       "193872  26.00000  6.2  \n",
       "\n",
       "[193873 rows x 8 columns]"
      ]
     },
     "execution_count": 9,
     "metadata": {},
     "output_type": "execute_result"
    }
   ],
   "source": [
    "x"
   ]
  },
  {
   "cell_type": "code",
   "execution_count": 10,
   "id": "03253320-ddb5-49af-8637-beb0d80a8bd3",
   "metadata": {},
   "outputs": [
    {
     "data": {
      "text/plain": [
       "0         Arecanut\n",
       "1         Arecanut\n",
       "2         Arecanut\n",
       "3         Arecanut\n",
       "4         Arecanut\n",
       "            ...   \n",
       "193868       Wheat\n",
       "193869       Wheat\n",
       "193870       Wheat\n",
       "193871       Wheat\n",
       "193872       Wheat\n",
       "Name: Crop, Length: 193873, dtype: object"
      ]
     },
     "execution_count": 10,
     "metadata": {},
     "output_type": "execute_result"
    }
   ],
   "source": [
    "y"
   ]
  },
  {
   "cell_type": "code",
   "execution_count": 11,
   "id": "864a21e3-a0b1-480c-a5a5-4d72d0d8d9a1",
   "metadata": {},
   "outputs": [],
   "source": [
    "from sklearn.model_selection import train_test_split\n",
    "X_train, X_test, y_train, y_test = train_test_split(x,y, test_size = .02)"
   ]
  },
  {
   "cell_type": "code",
   "execution_count": 12,
   "id": "a801a009-7370-4a7a-94f5-efa2a8f64c36",
   "metadata": {},
   "outputs": [],
   "source": [
    "import pandas as pd\n",
    "from sklearn.model_selection import train_test_split\n",
    "from sklearn.ensemble import RandomForestClassifier\n",
    "from sklearn.preprocessing import StandardScaler, OneHotEncoder\n",
    "from sklearn.compose import ColumnTransformer\n",
    "from sklearn.pipeline import Pipeline\n",
    "from sklearn.metrics import accuracy_score, classification_report\n",
    "\n",
    "\n",
    "\n",
    "# Define the columns to be one-hot encoded (assuming they are categorical)\n",
    "categorical_cols = ['State_Name', 'District_Name']  # Adding our categorical column names here\n",
    "\n",
    "# Preprocessing steps for numerical and categorical data\n",
    "numeric_transformer = StandardScaler()\n",
    "categorical_transformer = OneHotEncoder(handle_unknown='ignore', sparse=False)\n",
    "\n",
    "preprocessor = ColumnTransformer(\n",
    "    transformers=[\n",
    "        ('num', numeric_transformer, X_train.select_dtypes(include=['int64', 'float64']).columns),\n",
    "        ('cat', categorical_transformer, categorical_cols)\n",
    "    ])\n",
    "\n"
   ]
  },
  {
   "cell_type": "code",
   "execution_count": 13,
   "id": "a1b08626-5d9a-4fd4-8358-8baf7a48d2e6",
   "metadata": {},
   "outputs": [],
   "source": [
    "# Create a pipeline with preprocessing and Random Forest Classifier\n",
    "model = Pipeline(steps=[('preprocessor', preprocessor),\n",
    "                        ('classifier', RandomForestClassifier(n_estimators=100, random_state=42))])\n",
    "\n"
   ]
  },
  {
   "cell_type": "code",
   "execution_count": 14,
   "id": "e6fd631b-484f-43a0-b892-fb6783b8db28",
   "metadata": {},
   "outputs": [
    {
     "name": "stderr",
     "output_type": "stream",
     "text": [
      "/Applications/anaconda3/lib/python3.11/site-packages/sklearn/preprocessing/_encoders.py:868: FutureWarning: `sparse` was renamed to `sparse_output` in version 1.2 and will be removed in 1.4. `sparse_output` is ignored unless you leave `sparse` to its default value.\n",
      "  warnings.warn(\n"
     ]
    },
    {
     "data": {
      "text/html": [
       "<style>#sk-container-id-1 {color: black;background-color: white;}#sk-container-id-1 pre{padding: 0;}#sk-container-id-1 div.sk-toggleable {background-color: white;}#sk-container-id-1 label.sk-toggleable__label {cursor: pointer;display: block;width: 100%;margin-bottom: 0;padding: 0.3em;box-sizing: border-box;text-align: center;}#sk-container-id-1 label.sk-toggleable__label-arrow:before {content: \"▸\";float: left;margin-right: 0.25em;color: #696969;}#sk-container-id-1 label.sk-toggleable__label-arrow:hover:before {color: black;}#sk-container-id-1 div.sk-estimator:hover label.sk-toggleable__label-arrow:before {color: black;}#sk-container-id-1 div.sk-toggleable__content {max-height: 0;max-width: 0;overflow: hidden;text-align: left;background-color: #f0f8ff;}#sk-container-id-1 div.sk-toggleable__content pre {margin: 0.2em;color: black;border-radius: 0.25em;background-color: #f0f8ff;}#sk-container-id-1 input.sk-toggleable__control:checked~div.sk-toggleable__content {max-height: 200px;max-width: 100%;overflow: auto;}#sk-container-id-1 input.sk-toggleable__control:checked~label.sk-toggleable__label-arrow:before {content: \"▾\";}#sk-container-id-1 div.sk-estimator input.sk-toggleable__control:checked~label.sk-toggleable__label {background-color: #d4ebff;}#sk-container-id-1 div.sk-label input.sk-toggleable__control:checked~label.sk-toggleable__label {background-color: #d4ebff;}#sk-container-id-1 input.sk-hidden--visually {border: 0;clip: rect(1px 1px 1px 1px);clip: rect(1px, 1px, 1px, 1px);height: 1px;margin: -1px;overflow: hidden;padding: 0;position: absolute;width: 1px;}#sk-container-id-1 div.sk-estimator {font-family: monospace;background-color: #f0f8ff;border: 1px dotted black;border-radius: 0.25em;box-sizing: border-box;margin-bottom: 0.5em;}#sk-container-id-1 div.sk-estimator:hover {background-color: #d4ebff;}#sk-container-id-1 div.sk-parallel-item::after {content: \"\";width: 100%;border-bottom: 1px solid gray;flex-grow: 1;}#sk-container-id-1 div.sk-label:hover label.sk-toggleable__label {background-color: #d4ebff;}#sk-container-id-1 div.sk-serial::before {content: \"\";position: absolute;border-left: 1px solid gray;box-sizing: border-box;top: 0;bottom: 0;left: 50%;z-index: 0;}#sk-container-id-1 div.sk-serial {display: flex;flex-direction: column;align-items: center;background-color: white;padding-right: 0.2em;padding-left: 0.2em;position: relative;}#sk-container-id-1 div.sk-item {position: relative;z-index: 1;}#sk-container-id-1 div.sk-parallel {display: flex;align-items: stretch;justify-content: center;background-color: white;position: relative;}#sk-container-id-1 div.sk-item::before, #sk-container-id-1 div.sk-parallel-item::before {content: \"\";position: absolute;border-left: 1px solid gray;box-sizing: border-box;top: 0;bottom: 0;left: 50%;z-index: -1;}#sk-container-id-1 div.sk-parallel-item {display: flex;flex-direction: column;z-index: 1;position: relative;background-color: white;}#sk-container-id-1 div.sk-parallel-item:first-child::after {align-self: flex-end;width: 50%;}#sk-container-id-1 div.sk-parallel-item:last-child::after {align-self: flex-start;width: 50%;}#sk-container-id-1 div.sk-parallel-item:only-child::after {width: 0;}#sk-container-id-1 div.sk-dashed-wrapped {border: 1px dashed gray;margin: 0 0.4em 0.5em 0.4em;box-sizing: border-box;padding-bottom: 0.4em;background-color: white;}#sk-container-id-1 div.sk-label label {font-family: monospace;font-weight: bold;display: inline-block;line-height: 1.2em;}#sk-container-id-1 div.sk-label-container {text-align: center;}#sk-container-id-1 div.sk-container {/* jupyter's `normalize.less` sets `[hidden] { display: none; }` but bootstrap.min.css set `[hidden] { display: none !important; }` so we also need the `!important` here to be able to override the default hidden behavior on the sphinx rendered scikit-learn.org. See: https://github.com/scikit-learn/scikit-learn/issues/21755 */display: inline-block !important;position: relative;}#sk-container-id-1 div.sk-text-repr-fallback {display: none;}</style><div id=\"sk-container-id-1\" class=\"sk-top-container\"><div class=\"sk-text-repr-fallback\"><pre>Pipeline(steps=[(&#x27;preprocessor&#x27;,\n",
       "                 ColumnTransformer(transformers=[(&#x27;num&#x27;, StandardScaler(),\n",
       "                                                  Index([&#x27;Area&#x27;, &#x27;Production&#x27;, &#x27;temp&#x27;, &#x27;Ph&#x27;], dtype=&#x27;object&#x27;)),\n",
       "                                                 (&#x27;cat&#x27;,\n",
       "                                                  OneHotEncoder(handle_unknown=&#x27;ignore&#x27;,\n",
       "                                                                sparse=False),\n",
       "                                                  [&#x27;State_Name&#x27;,\n",
       "                                                   &#x27;District_Name&#x27;])])),\n",
       "                (&#x27;classifier&#x27;, RandomForestClassifier(random_state=42))])</pre><b>In a Jupyter environment, please rerun this cell to show the HTML representation or trust the notebook. <br />On GitHub, the HTML representation is unable to render, please try loading this page with nbviewer.org.</b></div><div class=\"sk-container\" hidden><div class=\"sk-item sk-dashed-wrapped\"><div class=\"sk-label-container\"><div class=\"sk-label sk-toggleable\"><input class=\"sk-toggleable__control sk-hidden--visually\" id=\"sk-estimator-id-1\" type=\"checkbox\" ><label for=\"sk-estimator-id-1\" class=\"sk-toggleable__label sk-toggleable__label-arrow\">Pipeline</label><div class=\"sk-toggleable__content\"><pre>Pipeline(steps=[(&#x27;preprocessor&#x27;,\n",
       "                 ColumnTransformer(transformers=[(&#x27;num&#x27;, StandardScaler(),\n",
       "                                                  Index([&#x27;Area&#x27;, &#x27;Production&#x27;, &#x27;temp&#x27;, &#x27;Ph&#x27;], dtype=&#x27;object&#x27;)),\n",
       "                                                 (&#x27;cat&#x27;,\n",
       "                                                  OneHotEncoder(handle_unknown=&#x27;ignore&#x27;,\n",
       "                                                                sparse=False),\n",
       "                                                  [&#x27;State_Name&#x27;,\n",
       "                                                   &#x27;District_Name&#x27;])])),\n",
       "                (&#x27;classifier&#x27;, RandomForestClassifier(random_state=42))])</pre></div></div></div><div class=\"sk-serial\"><div class=\"sk-item sk-dashed-wrapped\"><div class=\"sk-label-container\"><div class=\"sk-label sk-toggleable\"><input class=\"sk-toggleable__control sk-hidden--visually\" id=\"sk-estimator-id-2\" type=\"checkbox\" ><label for=\"sk-estimator-id-2\" class=\"sk-toggleable__label sk-toggleable__label-arrow\">preprocessor: ColumnTransformer</label><div class=\"sk-toggleable__content\"><pre>ColumnTransformer(transformers=[(&#x27;num&#x27;, StandardScaler(),\n",
       "                                 Index([&#x27;Area&#x27;, &#x27;Production&#x27;, &#x27;temp&#x27;, &#x27;Ph&#x27;], dtype=&#x27;object&#x27;)),\n",
       "                                (&#x27;cat&#x27;,\n",
       "                                 OneHotEncoder(handle_unknown=&#x27;ignore&#x27;,\n",
       "                                               sparse=False),\n",
       "                                 [&#x27;State_Name&#x27;, &#x27;District_Name&#x27;])])</pre></div></div></div><div class=\"sk-parallel\"><div class=\"sk-parallel-item\"><div class=\"sk-item\"><div class=\"sk-label-container\"><div class=\"sk-label sk-toggleable\"><input class=\"sk-toggleable__control sk-hidden--visually\" id=\"sk-estimator-id-3\" type=\"checkbox\" ><label for=\"sk-estimator-id-3\" class=\"sk-toggleable__label sk-toggleable__label-arrow\">num</label><div class=\"sk-toggleable__content\"><pre>Index([&#x27;Area&#x27;, &#x27;Production&#x27;, &#x27;temp&#x27;, &#x27;Ph&#x27;], dtype=&#x27;object&#x27;)</pre></div></div></div><div class=\"sk-serial\"><div class=\"sk-item\"><div class=\"sk-estimator sk-toggleable\"><input class=\"sk-toggleable__control sk-hidden--visually\" id=\"sk-estimator-id-4\" type=\"checkbox\" ><label for=\"sk-estimator-id-4\" class=\"sk-toggleable__label sk-toggleable__label-arrow\">StandardScaler</label><div class=\"sk-toggleable__content\"><pre>StandardScaler()</pre></div></div></div></div></div></div><div class=\"sk-parallel-item\"><div class=\"sk-item\"><div class=\"sk-label-container\"><div class=\"sk-label sk-toggleable\"><input class=\"sk-toggleable__control sk-hidden--visually\" id=\"sk-estimator-id-5\" type=\"checkbox\" ><label for=\"sk-estimator-id-5\" class=\"sk-toggleable__label sk-toggleable__label-arrow\">cat</label><div class=\"sk-toggleable__content\"><pre>[&#x27;State_Name&#x27;, &#x27;District_Name&#x27;]</pre></div></div></div><div class=\"sk-serial\"><div class=\"sk-item\"><div class=\"sk-estimator sk-toggleable\"><input class=\"sk-toggleable__control sk-hidden--visually\" id=\"sk-estimator-id-6\" type=\"checkbox\" ><label for=\"sk-estimator-id-6\" class=\"sk-toggleable__label sk-toggleable__label-arrow\">OneHotEncoder</label><div class=\"sk-toggleable__content\"><pre>OneHotEncoder(handle_unknown=&#x27;ignore&#x27;, sparse=False)</pre></div></div></div></div></div></div></div></div><div class=\"sk-item\"><div class=\"sk-estimator sk-toggleable\"><input class=\"sk-toggleable__control sk-hidden--visually\" id=\"sk-estimator-id-7\" type=\"checkbox\" ><label for=\"sk-estimator-id-7\" class=\"sk-toggleable__label sk-toggleable__label-arrow\">RandomForestClassifier</label><div class=\"sk-toggleable__content\"><pre>RandomForestClassifier(random_state=42)</pre></div></div></div></div></div></div></div>"
      ],
      "text/plain": [
       "Pipeline(steps=[('preprocessor',\n",
       "                 ColumnTransformer(transformers=[('num', StandardScaler(),\n",
       "                                                  Index(['Area', 'Production', 'temp', 'Ph'], dtype='object')),\n",
       "                                                 ('cat',\n",
       "                                                  OneHotEncoder(handle_unknown='ignore',\n",
       "                                                                sparse=False),\n",
       "                                                  ['State_Name',\n",
       "                                                   'District_Name'])])),\n",
       "                ('classifier', RandomForestClassifier(random_state=42))])"
      ]
     },
     "execution_count": 14,
     "metadata": {},
     "output_type": "execute_result"
    }
   ],
   "source": [
    "# Fit the model\n",
    "model.fit(X_train, y_train)\n",
    "\n"
   ]
  },
  {
   "cell_type": "code",
   "execution_count": 18,
   "id": "85bd02c0-9766-4f38-a33c-4d9082d7fe15",
   "metadata": {},
   "outputs": [
    {
     "data": {
      "text/plain": [
       "array(['Horse-gra', 'Urad', 'Sesamum', ..., 'Gram', 'Sugarcane',\n",
       "       'Sesamum'], dtype=object)"
      ]
     },
     "execution_count": 18,
     "metadata": {},
     "output_type": "execute_result"
    }
   ],
   "source": [
    "# Predict on the test set\n",
    "y_pred = model.predict(X_test)\n",
    "\n",
    "y_pred"
   ]
  },
  {
   "cell_type": "code",
   "execution_count": 16,
   "id": "87e5a7dd-1f41-4cf8-8fb0-2e605176c795",
   "metadata": {},
   "outputs": [
    {
     "name": "stdout",
     "output_type": "stream",
     "text": [
      "Accuracy: 0.92\n"
     ]
    }
   ],
   "source": [
    "# Evaluate the model\n",
    "accuracy = accuracy_score(y_test, y_pred)\n",
    "print(f\"Accuracy: {accuracy:.2f}\")\n",
    "\n"
   ]
  },
  {
   "cell_type": "code",
   "execution_count": 17,
   "id": "5d6b62d2-d3c4-473a-8ff8-1113137f3777",
   "metadata": {},
   "outputs": [
    {
     "name": "stdout",
     "output_type": "stream",
     "text": [
      "              precision    recall  f1-score   support\n",
      "\n",
      "    Arecanut       1.00      0.98      0.99        41\n",
      "       Bajra       0.95      0.91      0.93        98\n",
      "      Banana       1.00      0.96      0.98        54\n",
      "      Barley       0.91      0.85      0.88        84\n",
      "        Bean       0.00      0.00      0.00         1\n",
      "  Black pepp       0.95      1.00      0.97        18\n",
      "   Blackgram       0.00      0.00      0.00         1\n",
      "     Brinjal       0.80      0.80      0.80         5\n",
      "     Cabbage       1.00      1.00      1.00         1\n",
      "    Cardamom       1.00      1.00      1.00         6\n",
      "    Cashewnu       1.00      1.00      1.00        16\n",
      "  Castor see       0.80      0.82      0.81        49\n",
      "    Chillies       0.95      0.98      0.97       127\n",
      "     Coconut       1.00      0.95      0.97        39\n",
      "   Coriander       1.00      0.98      0.99        60\n",
      "      Cotton       0.94      0.81      0.87        78\n",
      "      Cowpea       0.86      0.57      0.69        21\n",
      "      Garlic       0.93      0.99      0.96        72\n",
      "      Ginger       0.93      0.95      0.94        74\n",
      "        Gram       0.86      0.91      0.88       118\n",
      "      Grapes       1.00      0.50      0.67         2\n",
      "   Groundnut       0.85      0.87      0.86       177\n",
      "   Guar seed       0.92      0.90      0.91        40\n",
      "   Horse-gra       0.83      0.96      0.89        78\n",
      "       Jowar       0.90      0.88      0.89       130\n",
      "        Jute       1.00      1.00      1.00        28\n",
      "     Khesari       0.95      1.00      0.97        19\n",
      "  Lady Finge       0.00      0.00      0.00         1\n",
      "       Lemon       0.00      0.00      0.00         1\n",
      "     Linseed       0.89      0.90      0.89        80\n",
      "       Maize       0.91      0.93      0.92       254\n",
      "       Mesta       0.96      0.96      0.96        28\n",
      "    Moong(Gr       0.92      0.91      0.91       179\n",
      "        Moth       1.00      0.94      0.97        17\n",
      "       Onion       0.97      0.97      0.97       139\n",
      "      Orange       1.00      0.67      0.80         3\n",
      "      Papaya       1.00      0.45      0.62        11\n",
      "  Peas & bea       0.92      0.91      0.91        65\n",
      "   Pineapple       1.00      1.00      1.00         5\n",
      "      Potato       0.97      0.99      0.98       145\n",
      "        Ragi       0.86      0.84      0.85        81\n",
      "        Rice       0.94      0.93      0.93       307\n",
      "   Safflower       0.75      0.52      0.62        23\n",
      "    Sannhamp       0.87      0.85      0.86        48\n",
      "     Sesamum       0.92      0.96      0.94       190\n",
      "    Soyabean       0.91      0.88      0.89        57\n",
      "   Sugarcane       0.98      0.99      0.98       147\n",
      "   Sunflower       0.90      0.93      0.92       117\n",
      "   Sweet pot       0.90      0.98      0.94        82\n",
      "     Tapioca       0.94      0.94      0.94        34\n",
      "         Tea       1.00      1.00      1.00         1\n",
      "      Tomato       0.75      0.75      0.75         4\n",
      "    Turmeric       0.94      0.93      0.94        87\n",
      "        Urad       0.93      0.97      0.95       179\n",
      "      Varagu       1.00      0.33      0.50         3\n",
      "       Wheat       0.95      0.94      0.95       153\n",
      "\n",
      "    accuracy                           0.92      3878\n",
      "   macro avg       0.86      0.82      0.83      3878\n",
      "weighted avg       0.92      0.92      0.92      3878\n",
      "\n"
     ]
    },
    {
     "name": "stderr",
     "output_type": "stream",
     "text": [
      "/Applications/anaconda3/lib/python3.11/site-packages/sklearn/metrics/_classification.py:1344: UndefinedMetricWarning: Precision and F-score are ill-defined and being set to 0.0 in labels with no predicted samples. Use `zero_division` parameter to control this behavior.\n",
      "  _warn_prf(average, modifier, msg_start, len(result))\n",
      "/Applications/anaconda3/lib/python3.11/site-packages/sklearn/metrics/_classification.py:1344: UndefinedMetricWarning: Precision and F-score are ill-defined and being set to 0.0 in labels with no predicted samples. Use `zero_division` parameter to control this behavior.\n",
      "  _warn_prf(average, modifier, msg_start, len(result))\n",
      "/Applications/anaconda3/lib/python3.11/site-packages/sklearn/metrics/_classification.py:1344: UndefinedMetricWarning: Precision and F-score are ill-defined and being set to 0.0 in labels with no predicted samples. Use `zero_division` parameter to control this behavior.\n",
      "  _warn_prf(average, modifier, msg_start, len(result))\n"
     ]
    }
   ],
   "source": [
    "# Print classification report\n",
    "print(classification_report(y_test, y_pred))"
   ]
  },
  {
   "cell_type": "code",
   "execution_count": null,
   "id": "44ad5a34-db8c-4e10-ba35-b009e1bc68cf",
   "metadata": {},
   "outputs": [],
   "source": []
  },
  {
   "cell_type": "code",
   "execution_count": 21,
   "id": "746017c8-f3a2-4c6b-bda6-f17e4b697644",
   "metadata": {},
   "outputs": [],
   "source": [
    "import pickle"
   ]
  },
  {
   "cell_type": "code",
   "execution_count": 23,
   "id": "8cd215bd-52ee-44aa-9162-3c04f67e6ff7",
   "metadata": {},
   "outputs": [],
   "source": [
    "pickle.dump(model,open('randomforestmodel.pkl', 'wb'))"
   ]
  },
  {
   "cell_type": "code",
   "execution_count": 40,
   "id": "df7f4229-b987-4e00-ae20-49f1ae593e9d",
   "metadata": {},
   "outputs": [
    {
     "data": {
      "text/plain": [
       "array(['Arecanut'], dtype=object)"
      ]
     },
     "execution_count": 40,
     "metadata": {},
     "output_type": "execute_result"
    }
   ],
   "source": [
    "model.predict(pd.DataFrame([['Tamil Nadu','NAMAKKAL',626,25,0.03994,1000.499,35,5.5]], columns=[ \"State_Name\",\"District_Name\",\"Area\",\"Production\",\"prod/area\",\"rainfall\",\"temp\",\"Ph\"]))"
   ]
  },
  {
   "cell_type": "code",
   "execution_count": null,
   "id": "da6927d4-9f82-47d3-be1f-738516e2dfc6",
   "metadata": {},
   "outputs": [],
   "source": []
  }
 ],
 "metadata": {
  "kernelspec": {
   "display_name": "Python 3 (ipykernel)",
   "language": "python",
   "name": "python3"
  },
  "language_info": {
   "codemirror_mode": {
    "name": "ipython",
    "version": 3
   },
   "file_extension": ".py",
   "mimetype": "text/x-python",
   "name": "python",
   "nbconvert_exporter": "python",
   "pygments_lexer": "ipython3",
   "version": "3.11.7"
  }
 },
 "nbformat": 4,
 "nbformat_minor": 5
}
